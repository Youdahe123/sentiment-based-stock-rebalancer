{
 "cells": [
  {
   "cell_type": "markdown",
   "id": "fdf0bc38-ec2c-45b4-93b8-e67909efdb4e",
   "metadata": {},
   "source": [
    "# Imports"
   ]
  },
  {
   "cell_type": "code",
   "execution_count": 50,
   "id": "8576a3c6-2096-4db2-a6dd-cd86218a9e4d",
   "metadata": {},
   "outputs": [],
   "source": [
    "import pandas as pd\n",
    "import numpy as np\n",
    "import re\n",
    "from vaderSentiment.vaderSentiment import SentimentIntensityAnalyzer\n",
    "\n",
    "#!pip install vaderSentiment\n",
    "\n"
   ]
  },
  {
   "cell_type": "markdown",
   "id": "0d0abe56-8948-487b-86fb-df406ad19577",
   "metadata": {},
   "source": [
    "# Data cleansing"
   ]
  },
  {
   "cell_type": "code",
   "execution_count": 51,
   "id": "5c0d09ca-9a6d-4922-987c-f76f627f89dd",
   "metadata": {},
   "outputs": [],
   "source": [
    "#Link to the dataset https://www.kaggle.com/datasets/injek0626/reddit-stock-related-posts\n",
    "data = pd.read_csv(\"datasets/Reddit Post/posts.csv\")"
   ]
  },
  {
   "cell_type": "code",
   "execution_count": 52,
   "id": "4a50072e-9da3-439c-8bda-0d773a77f4a4",
   "metadata": {},
   "outputs": [],
   "source": [
    "df1 = data"
   ]
  },
  {
   "cell_type": "code",
   "execution_count": 53,
   "id": "b65c4104-9af0-411e-bc63-44af04897555",
   "metadata": {},
   "outputs": [
    {
     "name": "stdout",
     "output_type": "stream",
     "text": [
      "NaN:       31.77%\n",
      "Deleted:   11.66%\n",
      "Removed:   22.05%\n",
      "Any three: 65.49%\n"
     ]
    }
   ],
   "source": [
    "s = df1['selftext']\n",
    "total = len(s)\n",
    "\n",
    "# proportion of NaN\n",
    "prop_na = s.isna().mean()\n",
    "\n",
    "# proportion of “[deleted]”\n",
    "prop_deleted = (s == '[deleted]').mean()\n",
    "\n",
    "# proportion of “[removed]”\n",
    "prop_removed = (s == '[removed]').mean()\n",
    "\n",
    "# proportion of any of the three\n",
    "prop_any = (s.isna() | s.isin(['[deleted]', '[removed]'])).mean()\n",
    "\n",
    "print(f\"NaN:       {prop_na:.2%}\")\n",
    "print(f\"Deleted:   {prop_deleted:.2%}\")\n",
    "print(f\"Removed:   {prop_removed:.2%}\")\n",
    "print(f\"Any three: {prop_any:.2%}\")\n"
   ]
  },
  {
   "cell_type": "code",
   "execution_count": 64,
   "id": "bddee203-48f8-4136-a24d-9136250033a4",
   "metadata": {},
   "outputs": [],
   "source": [
    "df_clean = df1[~(s.isna() | s.isin(['[deleted]', '[removed]']))]"
   ]
  },
  {
   "cell_type": "code",
   "execution_count": 69,
   "id": "36d526fc-896d-41fa-b64b-0de6d36a1060",
   "metadata": {},
   "outputs": [],
   "source": [
    "df_clean.loc[:,'created_utc'] = pd.to_datetime(df_clean['created_utc'], unit='s')"
   ]
  },
  {
   "cell_type": "code",
   "execution_count": 56,
   "id": "4f6b5df0-bffe-4351-b089-9a330fdd27ec",
   "metadata": {},
   "outputs": [],
   "source": [
    "# pattern = r'\\b(aapl|apple)\\b'\n",
    "\n",
    "# combined = df1['title'].fillna('') + ' ' + df1['selftext'].fillna('')\n",
    "# mask = combined.str.contains(pattern, case=False, regex=True)\n",
    "\n",
    "# df_aapl = df1[mask]\n"
   ]
  },
  {
   "cell_type": "code",
   "execution_count": 57,
   "id": "6a6a9157-2c96-4881-b6c4-3566e8796ec0",
   "metadata": {},
   "outputs": [],
   "source": [
    "# pattern = r'\\b(msft|microsoft)\\b'\n",
    "\n",
    "# combined = df1['title'].fillna('') + ' ' + df1['selftext'].fillna('')\n",
    "# mask = combined.str.contains(pattern, case=False, regex=True)\n",
    "\n",
    "# df_msft = df1[mask]"
   ]
  },
  {
   "cell_type": "markdown",
   "id": "206b3bc9-d312-46be-b17f-5a5d5545ce2d",
   "metadata": {},
   "source": [
    "# Sentiment analysis"
   ]
  },
  {
   "cell_type": "code",
   "execution_count": 71,
   "id": "2e7f334f-b13b-41fd-b193-49d0bc5d0549",
   "metadata": {},
   "outputs": [],
   "source": [
    "analyzer = SentimentIntensityAnalyzer()"
   ]
  },
  {
   "cell_type": "code",
   "execution_count": 72,
   "id": "54e4f592-02a3-4bcb-b4f2-4d436da5d600",
   "metadata": {},
   "outputs": [],
   "source": [
    "def get_sentiment(text):\n",
    "    if pd.isna(text):\n",
    "        return None\n",
    "    return analyzer.polarity_scores(text)['compound']\n"
   ]
  },
  {
   "cell_type": "code",
   "execution_count": 73,
   "id": "13992c6b-5a81-44dc-8945-d2c976997ce5",
   "metadata": {},
   "outputs": [
    {
     "name": "stderr",
     "output_type": "stream",
     "text": [
      "/var/folders/b9/c8dccyq571l5hfttr60_l_sr0000gn/T/ipykernel_9256/3277188852.py:1: SettingWithCopyWarning: \n",
      "A value is trying to be set on a copy of a slice from a DataFrame.\n",
      "Try using .loc[row_indexer,col_indexer] = value instead\n",
      "\n",
      "See the caveats in the documentation: https://pandas.pydata.org/pandas-docs/stable/user_guide/indexing.html#returning-a-view-versus-a-copy\n",
      "  df_clean['sentiment'] = df_clean['selftext'].apply(get_sentiment)\n"
     ]
    }
   ],
   "source": [
    "df_clean['sentiment'] = df_clean['selftext'].apply(get_sentiment)\n"
   ]
  },
  {
   "cell_type": "code",
   "execution_count": 75,
   "id": "d587dd32-2410-4a6f-9a79-0469ccbfe4ba",
   "metadata": {},
   "outputs": [],
   "source": [
    "df_clean.to_csv('clean_data.csv', index=False)\n"
   ]
  },
  {
   "cell_type": "code",
   "execution_count": 76,
   "id": "08abdfc1-a541-49ca-9e15-85cce7b84254",
   "metadata": {},
   "outputs": [
    {
     "name": "stderr",
     "output_type": "stream",
     "text": [
      "/var/folders/b9/c8dccyq571l5hfttr60_l_sr0000gn/T/ipykernel_9256/649043911.py:11: SettingWithCopyWarning: \n",
      "A value is trying to be set on a copy of a slice from a DataFrame.\n",
      "Try using .loc[row_indexer,col_indexer] = value instead\n",
      "\n",
      "See the caveats in the documentation: https://pandas.pydata.org/pandas-docs/stable/user_guide/indexing.html#returning-a-view-versus-a-copy\n",
      "  df_clean.loc[:, 'sentiment_label'] = df_clean['sentiment'].apply(label_sentiment)\n"
     ]
    }
   ],
   "source": [
    "def label_sentiment(score):\n",
    "    if pd.isna(score):\n",
    "        return 'neutral'\n",
    "    if score >= 0.05:\n",
    "        return 'positive'\n",
    "    elif score <= -0.05:\n",
    "        return 'negative'\n",
    "    else:\n",
    "        return 'neutral'\n",
    "\n",
    "df_clean.loc[:, 'sentiment_label'] = df_clean['sentiment'].apply(label_sentiment)\n"
   ]
  },
  {
   "cell_type": "code",
   "execution_count": 78,
   "id": "4fd995f8-0f8d-413c-9e48-b7df91a20ca3",
   "metadata": {},
   "outputs": [],
   "source": [
    "df_clean.to_csv('clean_data_sentiment_label.csv', index=False)"
   ]
  },
  {
   "cell_type": "code",
   "execution_count": 79,
   "id": "02309cc7-3313-40c5-9620-9591a246e0b8",
   "metadata": {},
   "outputs": [],
   "source": [
    "df_final = df_clean[['created_utc', 'title', 'selftext', 'sentiment', 'sentiment_label']]\n"
   ]
  },
  {
   "cell_type": "code",
   "execution_count": 81,
   "id": "ac89f41c-e633-40b2-ab09-017ef04c6b02",
   "metadata": {},
   "outputs": [],
   "source": [
    "df_final.to_csv('final_dataset.csv', index=False)"
   ]
  }
 ],
 "metadata": {
  "kernelspec": {
   "display_name": "Python 3 (ipykernel)",
   "language": "python",
   "name": "python3"
  },
  "language_info": {
   "codemirror_mode": {
    "name": "ipython",
    "version": 3
   },
   "file_extension": ".py",
   "mimetype": "text/x-python",
   "name": "python",
   "nbconvert_exporter": "python",
   "pygments_lexer": "ipython3",
   "version": "3.12.7"
  }
 },
 "nbformat": 4,
 "nbformat_minor": 5
}
